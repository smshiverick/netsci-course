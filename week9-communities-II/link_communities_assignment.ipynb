{
 "cells": [
  {
   "cell_type": "markdown",
   "metadata": {},
   "source": [
    "# Link communities\n",
    "For this assignment we will take a look at link communities and how they differ from node communities. In order to do this we will use the algorithm discussed in the reading (\"Link communities reveal multiscale complexity in networks\") and link community video from canvas.\n",
    "\n",
    "A small python module has been prepared that will allow you to use the link community algorithm with Anaconda and Python 3.5. To install the module you want to open a terminal or shell and use:\n",
    "\n",
    "```\n",
    "pip install git+https://github.com/Nathaniel-Rodriguez/linkcom.git\n",
    "```\n",
    "\n",
    "This will install the package locally in your Anaconda site-packages directory (the same place where the `conda` command would install new packages). If you have trouble installing the package you can just unpack the zip file from the [github repository](https://github.com/Nathaniel-Rodriguez/linkcom/tree/master/linkcom) and put the linkcom folder in your working directory.\n",
    "\n",
    "To use the package you can do:"
   ]
  },
  {
   "cell_type": "code",
   "execution_count": 1,
   "metadata": {
    "collapsed": true
   },
   "outputs": [],
   "source": [
    "import linkcom"
   ]
  },
  {
   "cell_type": "markdown",
   "metadata": {},
   "source": [
    "The code has been adapted so that it will work with networkx graphs. The link communities algorithm requires simple undirected graphs to use. This means there can't be any self-loops or parallel edges. However, you can use weighted graphs."
   ]
  },
  {
   "cell_type": "code",
   "execution_count": 2,
   "metadata": {
    "collapsed": false
   },
   "outputs": [
    {
     "name": "stdout",
     "output_type": "stream",
     "text": [
      "Graph\n"
     ]
    }
   ],
   "source": [
    "# First lets import networkx\n",
    "import networkx as nx\n",
    "\n",
    "# And generate a new graph\n",
    "my_graph = nx.erdos_renyi_graph(100, 0.1)\n",
    "\n",
    "# We need to make sure this is a graph of type Graph\n",
    "print(type(my_graph).__name__)"
   ]
  },
  {
   "cell_type": "markdown",
   "metadata": {},
   "source": [
    "If the graph you load in isn't of type Graph (it maybe a Multigraph or DiGraph), it is easy to convert it to one:"
   ]
  },
  {
   "cell_type": "code",
   "execution_count": 3,
   "metadata": {
    "collapsed": true
   },
   "outputs": [],
   "source": [
    "my_graph = nx.Graph(my_graph)"
   ]
  },
  {
   "cell_type": "markdown",
   "metadata": {},
   "source": [
    "## Using linkcom\n",
    "Now lets call the `cluster` method in `linkcom` to cluster the links of the graph. The `cluster` method takes several optional arguments:\n",
    "\n",
    "```\n",
    "linkcom.cluster(nx_graph, threshold=None, is_weighted=False, weight_key='weight', dendro_flag=False, to_file=False, basename=\"clustering\", delimiter='\\t')\n",
    "```\n",
    "\n",
    "`Threshold`: sets the cut-off for the dendrogram.\n",
    "\n",
    "`is_weighted`: can be `True` or `False` depending upon whether the graph has weights or not. Set this to `True` if the graph is weighted.\n",
    "\n",
    "`weight_key`: specifies what attribute the edges have that has weight values. In networkx it is convention that this key be set to `weight`. Most functions in networkx will assume this is the key. This is also the default value for the cluster method.\n",
    "\n",
    "`dendro_flag`: specifies whether to return the dendrogram (only applicable if the graph is unweighted and no threshold is given).\n",
    "\n",
    "`to_file`: specifies whether to write the outputs to file. Several files will be written and given names based on `basename` with elements separated by `delimiter`. \n",
    "\n",
    "These outputs will be written to file:\n",
    "\n",
    "```\n",
    "Three text files with extensions .edge2comm.txt, .comm2edges.txt,\n",
    "and .comm2nodes.txt store the communities.\n",
    "\n",
    "edge2comm, an edge on each line followed by the community\n",
    "id (cid) of the edge's link comm:\n",
    "node_i <delimiter> node_j <delimiter> cid <newline>\n",
    "\n",
    "comm2edges, a list of edges representing one community per line:\n",
    "cid <delimiter> ni,nj <delimiter> nx,ny [...] <newline>\n",
    "\n",
    "comm2nodes, a list of nodes representing one community per line:\n",
    "cid <delimiter> ni <delimiter> nj [...] <newline>\n",
    "\n",
    "The output filename contains the threshold at which the dendrogram\n",
    "was cut, if applicable, or the threshold where the maximum\n",
    "partition density was found, and the value of the partition \n",
    "density.\n",
    "\n",
    "If no threshold was given to cut the dendrogram, a file ending with\n",
    "'_thr_D.txt' is generated, containing the partition density as a\n",
    "function of clustering threshold.\n",
    "\n",
    "If the dendrogram option was given, two files are generated. One with\n",
    "'.cid2edge.txt' records the id of each edge and the other one with\n",
    "'.linkage.txt' stores the linkage structure of the hierarchical \n",
    "clustering. In the linkage file, the edge in the first column is \n",
    "merged with the one in the second at the similarity value in the \n",
    "third column.\n",
    "```\n",
    "\n",
    "The cluster method will return a tuple with different elements:\n",
    "\n",
    "    If no threshold is given, then a tuple is returned with: (dict) dictionary with keys=edges and values=community membership, (float) best similarity, (float) best partition density, (list) partition density list.\n",
    "\n",
    "    If dendro_flag is given (only applicable if no threshold), then a tuple is returned with: (dict) dictionary with keys=edges and values=community membership, (float) best similarity, (float) best partition density, (list) partition density list, (dict) keys=edges and values=community membership for original, (list) dendrogram.\n",
    "\n",
    "    If threshold is given a tuple is returned with: (dict) dictionary with keys=edges and values=community membership, partition density at threshold.\n",
    "\n",
    "You will mostly just be interested in using the dictionary which contains the community assignment data, which is always the first element of the tuple. Lets do a short example:"
   ]
  },
  {
   "cell_type": "code",
   "execution_count": 4,
   "metadata": {
    "collapsed": false
   },
   "outputs": [
    {
     "name": "stdout",
     "output_type": "stream",
     "text": [
      "clustering...\n",
      "computing similarities...\n",
      "# D_max = 0.083900\n",
      "# S_max = 0.000000\n"
     ]
    }
   ],
   "source": [
    "e2c, S, D, Dlist = linkcom.cluster(my_graph)"
   ]
  },
  {
   "cell_type": "markdown",
   "metadata": {},
   "source": [
    "If we print `e2c` we will see that each edge has a community membership:"
   ]
  },
  {
   "cell_type": "code",
   "execution_count": 5,
   "metadata": {
    "collapsed": false
   },
   "outputs": [
    {
     "name": "stdout",
     "output_type": "stream",
     "text": [
      "{(1, 34): 56, (0, 86): 56, (66, 94): 56, (45, 98): 56, (12, 78): 56, (33, 55): 56, (5, 44): 56, (62, 87): 56, (16, 28): 56, (63, 76): 56, (38, 50): 56, (24, 66): 56, (30, 51): 56, (16, 50): 56, (13, 32): 56, (62, 64): 56, (36, 61): 56, (1, 75): 56, (14, 31): 56, (65, 89): 56, (20, 88): 56, (64, 88): 56, (13, 58): 56, (45, 48): 56, (26, 98): 56, (0, 17): 56, (64, 75): 56, (58, 94): 56, (18, 38): 56, (47, 78): 56, (38, 46): 56, (59, 93): 56, (44, 86): 56, (7, 98): 56, (30, 48): 56, (41, 97): 56, (39, 97): 56, (20, 53): 56, (3, 23): 56, (43, 98): 56, (94, 98): 56, (28, 53): 56, (93, 97): 56, (22, 39): 56, (29, 56): 56, (28, 32): 56, (26, 89): 56, (39, 47): 56, (6, 35): 56, (31, 51): 56, (16, 81): 56, (50, 90): 56, (90, 95): 56, (29, 76): 56, (2, 99): 56, (64, 95): 56, (13, 51): 56, (12, 61): 56, (43, 57): 56, (15, 16): 56, (8, 50): 56, (33, 99): 56, (14, 63): 56, (19, 70): 56, (18, 66): 56, (50, 56): 56, (46, 82): 56, (13, 26): 56, (3, 11): 56, (32, 81): 56, (14, 99): 56, (18, 92): 56, (57, 79): 56, (12, 65): 56, (20, 47): 56, (37, 83): 56, (26, 44): 56, (0, 87): 56, (27, 59): 56, (14, 75): 56, (9, 42): 56, (8, 42): 56, (32, 58): 56, (30, 46): 56, (29, 62): 56, (9, 40): 56, (40, 42): 56, (11, 93): 56, (16, 79): 56, (16, 32): 56, (48, 90): 56, (79, 82): 56, (65, 77): 56, (52, 69): 56, (40, 48): 56, (53, 82): 56, (36, 62): 56, (43, 45): 56, (31, 70): 56, (12, 52): 56, (18, 57): 56, (6, 92): 56, (44, 57): 56, (5, 83): 56, (10, 96): 56, (20, 71): 56, (41, 94): 56, (83, 99): 56, (47, 73): 56, (12, 29): 56, (5, 74): 56, (6, 49): 56, (31, 71): 56, (44, 98): 56, (58, 78): 56, (34, 82): 56, (26, 55): 56, (45, 90): 56, (2, 33): 56, (0, 68): 56, (22, 43): 56, (15, 79): 56, (35, 55): 56, (68, 84): 56, (17, 43): 56, (16, 61): 56, (19, 48): 56, (11, 61): 56, (18, 48): 56, (3, 25): 56, (44, 48): 56, (84, 89): 56, (20, 78): 56, (66, 87): 56, (18, 67): 56, (60, 90): 56, (66, 73): 56, (2, 30): 56, (85, 98): 56, (72, 91): 56, (21, 67): 56, (73, 75): 56, (59, 95): 56, (14, 72): 56, (4, 43): 56, (12, 72): 56, (9, 90): 56, (8, 46): 56, (39, 88): 56, (6, 18): 56, (54, 56): 56, (9, 47): 56, (16, 30): 56, (38, 65): 56, (11, 92): 56, (51, 91): 56, (54, 60): 56, (4, 76): 56, (52, 70): 56, (49, 76): 56, (40, 49): 56, (13, 71): 56, (29, 68): 56, (35, 49): 56, (17, 49): 56, (65, 95): 56, (37, 62): 56, (43, 49): 56, (67, 76): 56, (30, 64): 56, (31, 82): 56, (16, 67): 56, (8, 96): 56, (55, 72): 56, (20, 64): 56, (17, 88): 56, (27, 30): 56, (60, 96): 56, (26, 57): 56, (25, 55): 56, (45, 76): 56, (71, 85): 56, (18, 99): 56, (20, 33): 56, (53, 60): 56, (22, 37): 56, (24, 88): 56, (32, 37): 56, (55, 58): 56, (61, 67): 56, (62, 83): 56, (2, 88): 56, (23, 45): 56, (36, 43): 56, (1, 95): 56, (7, 29): 56, (78, 95): 56, (9, 15): 56, (40, 75): 56, (5, 11): 56, (4, 47): 56, (74, 82): 56, (28, 79): 56, (44, 49): 56, (42, 50): 56, (11, 63): 56, (13, 62): 56, (69, 89): 56, (51, 97): 56, (47, 81): 56, (19, 72): 56, (32, 96): 56, (21, 85): 56, (3, 33): 56, (16, 65): 56, (68, 69): 56, (57, 88): 56, (21, 66): 56, (3, 30): 56, (10, 79): 56, (25, 45): 56, (45, 82): 56, (80, 90): 56, (53, 90): 56, (45, 95): 56, (59, 67): 56, (25, 87): 56, (5, 82): 56, (80, 97): 56, (29, 60): 56, (36, 82): 56, (59, 84): 56, (18, 34): 56, (6, 53): 56, (73, 87): 56, (11, 32): 56, (10, 56): 56, (2, 77): 56, (41, 62): 56, (40, 71): 56, (42, 61): 56, (14, 54): 56, (40, 69): 56, (42, 72): 56, (21, 90): 56, (22, 98): 56, (5, 81): 56, (56, 91): 56, (51, 63): 56, (41, 92): 56, (21, 94): 56, (22, 68): 56, (66, 76): 56, (13, 30): 56, (59, 98): 56, (17, 63): 56, (0, 61): 56, (24, 42): 56, (46, 61): 56, (20, 48): 56, (34, 80): 56, (10, 69): 56, (73, 97): 56, (5, 25): 56, (10, 80): 56, (6, 10): 56, (4, 46): 56, (2, 42): 56, (33, 50): 56, (16, 22): 56, (48, 64): 56, (11, 19): 56, (32, 41): 56, (22, 28): 56, (6, 83): 56, (25, 69): 56, (3, 79): 56, (8, 78): 56, (28, 93): 56, (41, 54): 56, (77, 79): 56, (14, 24): 56, (31, 90): 56, (18, 61): 56, (67, 73): 56, (40, 82): 56, (11, 21): 56, (44, 61): 56, (0, 30): 56, (18, 65): 56, (44, 72): 56, (0, 1): 56, (83, 95): 56, (47, 77): 56, (32, 76): 56, (8, 37): 56, (45, 68): 56, (5, 30): 56, (8, 84): 56, (80, 91): 56, (26, 43): 56, (57, 65): 56, (6, 13): 56, (21, 43): 56, (4, 21): 56, (59, 66): 56, (35, 81): 56, (32, 61): 56, (22, 32): 56, (37, 94): 56, (34, 48): 56, (7, 21): 56, (13, 66): 56, (35, 45): 56, (31, 37): 56, (73, 86): 56, (74, 79): 56, (35, 80): 56, (40, 51): 56, (53, 95): 56, (8, 28): 56, (53, 76): 56, (9, 25): 56, (30, 96): 56, (38, 51): 56, (10, 30): 56, (22, 86): 56, (11, 31): 56, (44, 71): 56, (16, 72): 56, (14, 56): 56, (12, 24): 56, (93, 94): 56, (7, 94): 56, (83, 89): 56, (14, 47): 56, (34, 98): 56, (1, 10): 56, (33, 64): 56, (70, 79): 56, (27, 54): 56, (22, 52): 56, (19, 28): 56, (9, 65): 56, (70, 97): 56, (12, 76): 56, (49, 97): 56, (25, 76): 56, (73, 74): 56, (45, 94): 56, (62, 81): 56, (29, 46): 56, (26, 66): 56, (27, 34): 56, (3, 78): 56, (51, 72): 56, (18, 32): 56, (5, 50): 56, (60, 76): 56, (6, 71): 56, (41, 84): 56, (7, 68): 56, (8, 22): 56, (30, 73): 56, (6, 74): 56, (7, 74): 56, (48, 54): 56, (65, 72): 56, (6, 66): 56, (51, 99): 56, (0, 31): 56, (17, 87): 56, (20, 41): 56, (20, 68): 56, (48, 65): 56, (66, 68): 56, (8, 79): 56, (21, 83): 56, (68, 71): 56, (7, 96): 56, (18, 58): 56, (27, 87): 56, (62, 99): 56, (15, 32): 56, (2, 55): 56, (10, 88): 56, (24, 89): 56, (23, 37): 56, (19, 22): 56, (63, 99): 56, (26, 39): 56, (25, 85): 56, (22, 33): 56, (14, 38): 56, (36, 65): 56, (77, 96): 56, (32, 33): 56, (38, 68): 56, (36, 92): 56, (12, 27): 56, (29, 52): 56, (9, 54): 56, (8, 10): 56, (75, 86): 56, (1, 97): 56, (35, 50): 56, (18, 62): 56, (6, 77): 56, (7, 91): 56, (0, 92): 56, (30, 71): 56, (22, 96): 56, (41, 77): 56, (17, 72): 56, (30, 90): 56, (38, 45): 56, (20, 67): 56, (69, 75): 56, (16, 73): 56, (17, 93): 56, (55, 99): 56, (34, 99): 56, (33, 83): 56, (35, 68): 56, (21, 51): 56, (42, 54): 56, (72, 98): 56, (11, 69): 56, (22, 70): 56, (22, 47): 56, (30, 40): 56, (31, 95): 56, (27, 80): 56, (6, 34): 56, (8, 72): 56, (7, 9): 56, (27, 69): 56, (15, 68): 56, (23, 27): 56, (63, 94): 56, (14, 98): 56, (26, 93): 56, (43, 51): 56, (59, 64): 56, (36, 60): 56, (55, 81): 56, (12, 40): 56, (42, 76): 56, (39, 50): 56, (47, 97): 56, (20, 56): 56, (41, 68): 56, (16, 64): 56, (22, 93): 56, (28, 96): 56, (88, 97): 56, (64, 77): 56, (50, 53): 56, (19, 62): 56, (20, 22): 56, (25, 61): 56, (24, 51): 56, (48, 99): 56, (70, 74): 56, (77, 85): 56, (9, 35): 56, (80, 96): 56, (81, 87): 56, (61, 89): 56, (62, 89): 56, (2, 79): 56, (24, 85): 56, (25, 73): 56, (29, 38): 56, (1, 85): 56, (24, 72): 56, (50, 67): 56, (38, 72): 56, (36, 81): 56, (61, 78): 56, (54, 69): 56, (1, 79): 56, (9, 10): 56, (13, 39): 56, (2, 98): 56, (64, 70): 56, (11, 12): 56, (53, 63): 56, (16, 71): 56, (64, 65): 56, (54, 98): 56, (13, 14): 56, (56, 92): 56, (58, 92): 56, (55, 98): 56, (90, 98): 56, (34, 96): 56, (82, 87): 56, (22, 38): 56, (87, 97): 56, (1, 61): 56, (57, 72): 56, (17, 75): 56, (45, 85): 56, (12, 67): 56, (9, 71): 56}\n"
     ]
    }
   ],
   "source": [
    "print(e2c)"
   ]
  },
  {
   "cell_type": "markdown",
   "metadata": {},
   "source": [
    "Since this is a random graph, we expect there not to be any meaningful communities, and indeed they are all labelled `56` (the community ID), so there doesn't appear to be any link communities in the graph.\n",
    "\n",
    "We can now readily take our results and put them back into our graph so that it can be saved and viewed in Gephi. We can do this using the [`set_edge_attributes`](https://networkx.github.io/documentation/networkx-1.10/reference/generated/networkx.classes.function.set_edge_attributes.html) function in networkx. It works just like the `set_node_attributes` function from previuos assignments, but with edges instead:"
   ]
  },
  {
   "cell_type": "code",
   "execution_count": 7,
   "metadata": {
    "collapsed": true
   },
   "outputs": [],
   "source": [
    "# Put the link communities into the graph\n",
    "nx.set_edge_attributes(my_graph, \"linkcom\", e2c)\n",
    "\n",
    "# Save the graph to file\n",
    "nx.write_gexf(my_graph, \"my_graph.gexf\")"
   ]
  },
  {
   "cell_type": "markdown",
   "metadata": {},
   "source": [
    "Now if we were to open the graph in Gephi we should be able to use the link communities to color the graph edges. In Gephi you may need to click the little attribute type button so that edge attributes are set to [ranked rather than numeric](http://www.clementlevallois.net/gephi/tuto/en/gephi_cheat%20sheets_en.pdf). This is because we want to color the edges according to their membership and not with a gradient. Additionally, in order to keep the edge colors when saving the graph you will need to make sure the edge color in the Preview tab is set to `original`. Lastly, since you will be looking at link communities (which determine the node membership in link clustering) it will be helpful to increase the size of the edges in Gephi so the colors are more visible and so you can detect nodes that belong to multiple communities.\n",
    "\n",
    "## The network science collaboration graph\n",
    "You will be using the NetSci collaboration graph for your assignment. The nodes of the graph are people and links are formed between people who co-author a scientific paper together in network science. You can download it from [here](http://vlado.fmf.uni-lj.si/pub/networks/data/collab/netscience.htm). Make sure to read the graph description on that page. The graph has ~1500 nodes and is partly disconnected. If you have difficulty working with the full graph or trouble loading it into Gephi, you can use the largest connected component (which only has about 350 nodes). The largest connected component of a graph can be returned from networkx using:\n",
    "\n",
    "```\n",
    "largest_component=max(nx.connected_component_subgraphs(my_graph), key=len)\n",
    "```\n",
    "\n",
    "Most of the interesting stuff is happening around this component anyway. So you don't lose much except for the scientists and groups that decided to work alone.\n",
    "\n",
    "Follow these steps for the assignment:\n",
    "\n",
    "1. Load the Netsci graph and run the link communities clustering algorithm on it.\n",
    "2. Save the link communities to the graph and save the graph to file.\n",
    "3. In Gephi choose a good layout for the graph.\n",
    "4. Run the modularity command to generate communities for the nodes.\n",
    "5. Color the edges according to the link communities and the nodes according to the communities found by Gephi. Remember to take care in choosing the resolution parameter.\n",
    "6. How well does link clustering do at detecting community structure? How well does Gephi's node modularity do at detecting community structure? What do you think the communities represent?\n",
    "7. What are the similarities and differences between the communities detected by either algorithm?\n",
    "8. Which authors have a prominent position in multiple communities? What do you think these author's roles are?\n",
    "9. What other features do you notice about the graph that are captured with overlaping communities?\n",
    "10. Save your visualization to file.\n",
    "11. Once complete, submit a PDF document to Canvas that contains your responses and your graph visualization (since this is a larger graph feel free to crop the figure so that it only includes parts relevant to your responses)."
   ]
  },
  {
   "cell_type": "code",
   "execution_count": null,
   "metadata": {
    "collapsed": true
   },
   "outputs": [],
   "source": []
  }
 ],
 "metadata": {
  "anaconda-cloud": {},
  "kernelspec": {
   "display_name": "Python [default]",
   "language": "python",
   "name": "python3"
  },
  "language_info": {
   "codemirror_mode": {
    "name": "ipython",
    "version": 3
   },
   "file_extension": ".py",
   "mimetype": "text/x-python",
   "name": "python",
   "nbconvert_exporter": "python",
   "pygments_lexer": "ipython3",
   "version": "3.5.2"
  }
 },
 "nbformat": 4,
 "nbformat_minor": 1
}
